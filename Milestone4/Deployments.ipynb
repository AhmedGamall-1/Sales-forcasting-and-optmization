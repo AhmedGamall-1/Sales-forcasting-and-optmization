{
 "cells": [
  {
   "cell_type": "code",
   "execution_count": 2,
   "id": "b08f09f9",
   "metadata": {},
   "outputs": [],
   "source": [
    "import joblib\n",
    "import pandas as pd"
   ]
  },
  {
   "cell_type": "code",
   "execution_count": 3,
   "id": "f3fc25ac",
   "metadata": {},
   "outputs": [],
   "source": [
    "dg = joblib.load('../Milestone3/dataPreprocessing.pkl')"
   ]
  },
  {
   "cell_type": "code",
   "execution_count": 4,
   "id": "4979ed07",
   "metadata": {},
   "outputs": [
    {
     "name": "stdout",
     "output_type": "stream",
     "text": [
      "<class 'pandas.core.frame.DataFrame'>\n",
      "Index: 23089 entries, 0 to 23089\n",
      "Data columns (total 28 columns):\n",
      " #   Column                Non-Null Count  Dtype         \n",
      "---  ------                --------------  -----         \n",
      " 0   Date                  23089 non-null  datetime64[ns]\n",
      " 1   Gender                23089 non-null  int64         \n",
      " 2   Annual Income         23089 non-null  float64       \n",
      " 3   Company               23089 non-null  int64         \n",
      " 4   Engine                23089 non-null  int64         \n",
      " 5   Transmission          23089 non-null  int64         \n",
      " 6   Color                 23089 non-null  int64         \n",
      " 7   Price ($)             23089 non-null  float64       \n",
      " 8   Body Style            23089 non-null  int64         \n",
      " 9   Dealer_Region         23089 non-null  int64         \n",
      " 10  Year                  23089 non-null  int64         \n",
      " 11  Month                 23089 non-null  int64         \n",
      " 12  DayOfWeek             23089 non-null  int64         \n",
      " 13  Season                23089 non-null  int64         \n",
      " 14  Price_to_Income       23089 non-null  float64       \n",
      " 15  Holiday               23089 non-null  int64         \n",
      " 16  Is_Holiday            23089 non-null  int64         \n",
      " 17  Day                   23089 non-null  int64         \n",
      " 18  WeekOfYear            23089 non-null  int64         \n",
      " 19  Is_Weekend            23089 non-null  int64         \n",
      " 20  model                 23089 non-null  float64       \n",
      " 21  Engine_to_Model       23089 non-null  float64       \n",
      " 22  Income_Bracket        23089 non-null  int64         \n",
      " 23  Seasonal_Price_Index  23089 non-null  float64       \n",
      " 24  Year_Month            23089 non-null  int64         \n",
      " 25  Engine_Transmission   23089 non-null  int64         \n",
      " 26  Company_Strength      23089 non-null  float64       \n",
      " 27  PI_plus_model         23089 non-null  float64       \n",
      "dtypes: datetime64[ns](1), float64(8), int64(19)\n",
      "memory usage: 5.1 MB\n"
     ]
    }
   ],
   "source": [
    "dg.info()"
   ]
  },
  {
   "cell_type": "code",
   "execution_count": 5,
   "id": "71567667",
   "metadata": {},
   "outputs": [
    {
     "data": {
      "text/plain": [
       "Index(['Date', 'Gender', 'Annual Income', 'Company', 'Engine', 'Transmission',\n",
       "       'Color', 'Price ($)', 'Body Style', 'Dealer_Region', 'Year', 'Month',\n",
       "       'DayOfWeek', 'Season', 'Price_to_Income', 'Holiday', 'Is_Holiday',\n",
       "       'Day', 'WeekOfYear', 'Is_Weekend', 'model', 'Engine_to_Model',\n",
       "       'Income_Bracket', 'Seasonal_Price_Index', 'Year_Month',\n",
       "       'Engine_Transmission', 'Company_Strength', 'PI_plus_model'],\n",
       "      dtype='object')"
      ]
     },
     "execution_count": 5,
     "metadata": {},
     "output_type": "execute_result"
    }
   ],
   "source": [
    "dg.columns\n"
   ]
  },
  {
   "cell_type": "code",
   "execution_count": 9,
   "id": "65b9e1cd",
   "metadata": {},
   "outputs": [],
   "source": [
    "code = \"\"\"\n",
    "import streamlit as st\n",
    "import pandas as pd\n",
    "import numpy as np\n",
    "import pickle\n",
    "\n",
    "# Load model\n",
    "with open('model.pkl', 'rb') as file:\n",
    "    model = pickle.load(file)\n",
    "\n",
    "st.title(\"🚗 Car Price Prediction App\")\n",
    "st.write(\"Enter the car details below to predict its price.\")\n",
    "\n",
    "# Input fields\n",
    "gender = st.selectbox(\"Gender\", [0, 1])\n",
    "annual_income = st.number_input(\"Annual Income\", value=50000.0)\n",
    "company = st.number_input(\"Company (Encoded)\", value=1)\n",
    "engine = st.number_input(\"Engine\", value=2000)\n",
    "transmission = st.selectbox(\"Transmission (Encoded)\", [0, 1])\n",
    "color = st.selectbox(\"Color (Encoded)\", [0, 1, 2, 3])\n",
    "body_style = st.selectbox(\"Body Style (Encoded)\", [0, 1, 2])\n",
    "dealer_region = st.selectbox(\"Dealer Region (Encoded)\", [0, 1, 2])\n",
    "year = st.number_input(\"Year\", value=2023)\n",
    "month = st.slider(\"Month\", 1, 12, 1)\n",
    "dayofweek = st.slider(\"Day of Week\", 0, 6, 0)\n",
    "season = st.selectbox(\"Season\", [0, 1, 2, 3])\n",
    "price_to_income = st.number_input(\"Price to Income\", value=0.1)\n",
    "holiday = st.selectbox(\"Holiday (Encoded)\", [0, 1])\n",
    "is_holiday = st.selectbox(\"Is Holiday\", [0, 1])\n",
    "day = st.slider(\"Day\", 1, 31, 1)\n",
    "week_of_year = st.slider(\"Week of Year\", 1, 52, 1)\n",
    "is_weekend = st.selectbox(\"Is Weekend\", [0, 1])\n",
    "model_enc = st.number_input(\"Model (Encoded)\", value=1)\n",
    "engine_to_model = st.number_input(\"Engine to Model\", value=1.0)\n",
    "income_bracket = st.number_input(\"Income Bracket\", value=1.0)\n",
    "seasonal_price_index = st.number_input(\"Seasonal Price Index\", value=1.0)\n",
    "year_month = st.number_input(\"Year_Month\", value=202304)\n",
    "engine_transmission = st.number_input(\"Engine Transmission\", value=1)\n",
    "company_strength = st.number_input(\"Company Strength\", value=1.0)\n",
    "pi_plus_model = st.number_input(\"PI Plus Model\", value=1.0)\n",
    "\n",
    "input_data = np.array([[gender, annual_income, company, engine, transmission, color,\n",
    "                        body_style, dealer_region, year, month, dayofweek, season,\n",
    "                        price_to_income, holiday, is_holiday, day, week_of_year, is_weekend,\n",
    "                        model_enc, engine_to_model, income_bracket, seasonal_price_index,\n",
    "                        year_month, engine_transmission, company_strength, pi_plus_model]])\n",
    "\n",
    "if st.button(\"Predict Price\"):\n",
    "    prediction = model.predict(input_data)\n",
    "    st.success(f\"Predicted Car Price: ${prediction[0]:,.2f}\")\n",
    "\"\"\"\n",
    "\n",
    "# Save the file\n",
    "with open(\"app.py\", \"w\", encoding=\"utf-8\") as f:\n",
    "    f.write(code)\n",
    "\n"
   ]
  },
  {
   "cell_type": "code",
   "execution_count": 14,
   "id": "3c0a11a5",
   "metadata": {},
   "outputs": [
    {
     "name": "stdout",
     "output_type": "stream",
     "text": [
      "\n",
      "Gender_map = {'Female': np.int64(0), 'Male': np.int64(1)}\n",
      "\n",
      "Transmission_map = {'Auto': np.int64(0), 'Manual': np.int64(1)}\n",
      "\n",
      "Color_map = {'Black': np.int64(0), 'Pale White': np.int64(1), 'Red': np.int64(2)}\n",
      "\n",
      "Body Style_map = {'Hardtop': np.int64(0), 'Hatchback': np.int64(1), 'Passenger': np.int64(2), 'SUV': np.int64(3), 'Sedan': np.int64(4)}\n",
      "\n",
      "Dealer_Region_map = {'Aurora': np.int64(0), 'Austin': np.int64(1), 'Greenville': np.int64(2), 'Janesville': np.int64(3), 'Middletown': np.int64(4), 'Pasco': np.int64(5), 'Scottsdale': np.int64(6)}\n",
      "\n",
      "Company_map = {'Acura': np.int64(0), 'Audi': np.int64(1), 'BMW': np.int64(2), 'Buick': np.int64(3), 'Cadillac': np.int64(4), 'Chevrolet': np.int64(5), 'Chrysler': np.int64(6), 'Dodge': np.int64(7), 'Ford': np.int64(8), 'Honda': np.int64(9), 'Hyundai': np.int64(10), 'Infiniti': np.int64(11), 'Jaguar': np.int64(12), 'Jeep': np.int64(13), 'Lexus': np.int64(14), 'Lincoln': np.int64(15), 'Mercedes-B': np.int64(16), 'Mercury': np.int64(17), 'Mitsubishi': np.int64(18), 'Nissan': np.int64(19), 'Oldsmobile': np.int64(20), 'Plymouth': np.int64(21), 'Pontiac': np.int64(22), 'Porsche': np.int64(23), 'Saab': np.int64(24), 'Saturn': np.int64(25), 'Subaru': np.int64(26), 'Toyota': np.int64(27), 'Volkswagen': np.int64(28), 'Volvo': np.int64(29)}\n",
      "\n",
      "Model_map = {'3-Sep': np.int64(0), '3000GT': np.int64(1), '300M': np.int64(2), '323i': np.int64(3), '328i': np.int64(4), '4Runner': np.int64(5), '5-Sep': np.int64(6), '528i': np.int64(7), 'A4': np.int64(8), 'A6': np.int64(9), 'A8': np.int64(10), 'Accent': np.int64(11), 'Accord': np.int64(12), 'Alero': np.int64(13), 'Altima': np.int64(14), 'Aurora': np.int64(15), 'Avalon': np.int64(16), 'Avenger': np.int64(17), 'Beetle': np.int64(18), 'Bonneville': np.int64(19), 'Boxter': np.int64(20), 'Bravada': np.int64(21), 'Breeze': np.int64(22), 'C-Class': np.int64(23), 'C70': np.int64(24), 'CL500': np.int64(25), 'CLK Coupe': np.int64(26), 'CR-V': np.int64(27), 'Cabrio': np.int64(28), 'Camaro': np.int64(29), 'Camry': np.int64(30), 'Caravan': np.int64(31), 'Carrera Cabrio': np.int64(32), 'Carrera Coupe': np.int64(33), 'Catera': np.int64(34), 'Cavalier': np.int64(35), 'Celica': np.int64(36), 'Century': np.int64(37), 'Cherokee': np.int64(38), 'Cirrus': np.int64(39), 'Civic': np.int64(40), 'Concorde': np.int64(41), 'Continental': np.int64(42), 'Contour': np.int64(43), 'Corolla': np.int64(44), 'Corvette': np.int64(45), 'Cougar': np.int64(46), 'Crown Victoria': np.int64(47), 'Cutlass': np.int64(48), 'Dakota': np.int64(49), 'DeVille': np.int64(50), 'Diamante': np.int64(51), 'Durango': np.int64(52), 'E-Class': np.int64(53), 'ES300': np.int64(54), 'Eclipse': np.int64(55), 'Elantra': np.int64(56), 'Eldorado': np.int64(57), 'Escalade': np.int64(58), 'Escort': np.int64(59), 'Expedition': np.int64(60), 'Explorer': np.int64(61), 'F-Series': np.int64(62), 'Firebird': np.int64(63), 'Focus': np.int64(64), 'Forester': np.int64(65), 'Frontier': np.int64(66), 'GS300': np.int64(67), 'GS400': np.int64(68), 'GTI': np.int64(69), 'Galant': np.int64(70), 'Golf': np.int64(71), 'Grand Am': np.int64(72), 'Grand Cherokee': np.int64(73), 'Grand Marquis': np.int64(74), 'Grand Prix': np.int64(75), 'I30': np.int64(76), 'Impala': np.int64(77), 'Integra': np.int64(78), 'Intrepid': np.int64(79), 'Intrigue': np.int64(80), 'Jetta': np.int64(81), 'LHS': np.int64(82), 'LS': np.int64(83), 'LS400': np.int64(84), 'LW': np.int64(85), 'LX470': np.int64(86), 'Land Cruiser': np.int64(87), 'LeSabre': np.int64(88), 'Lumina': np.int64(89), 'M-Class': np.int64(90), 'Malibu': np.int64(91), 'Maxima': np.int64(92), 'Metro': np.int64(93), 'Mirage': np.int64(94), 'Monte Carlo': np.int64(95), 'Montero': np.int64(96), 'Montero Sport': np.int64(97), 'Mountaineer': np.int64(98), 'Mustang': np.int64(99), 'Mystique': np.int64(100), 'Navigator': np.int64(101), 'Neon': np.int64(102), 'Odyssey': np.int64(103), 'Outback': np.int64(104), 'Park Avenue': np.int64(105), 'Passat': np.int64(106), 'Passport': np.int64(107), 'Pathfinder': np.int64(108), 'Prizm': np.int64(109), 'Prowler': np.int64(110), 'Quest': np.int64(111), 'RAV4': np.int64(112), 'RL': np.int64(113), 'RX300': np.int64(114), 'Ram Pickup': np.int64(115), 'Ram Van': np.int64(116), 'Ram Wagon': np.int64(117), 'Ranger': np.int64(118), 'Regal': np.int64(119), 'S-Class': np.int64(120), 'S-Type': np.int64(121), 'S40': np.int64(122), 'S70': np.int64(123), 'S80': np.int64(124), 'SC': np.int64(125), 'SL': np.int64(126), 'SL-Class': np.int64(127), 'SLK': np.int64(128), 'SLK230': np.int64(129), 'SW': np.int64(130), 'Sable': np.int64(131), 'Sebring Conv.': np.int64(132), 'Sebring Coupe': np.int64(133), 'Sentra': np.int64(134), 'Seville': np.int64(135), 'Sienna': np.int64(136), 'Silhouette': np.int64(137), 'Sonata': np.int64(138), 'Stratus': np.int64(139), 'Sunfire': np.int64(140), 'TL': np.int64(141), 'Tacoma': np.int64(142), 'Taurus': np.int64(143), 'Town & Country': np.int64(144), 'Town car': np.int64(145), 'V40': np.int64(146), 'V70': np.int64(147), 'Villager': np.int64(148), 'Viper': np.int64(149), 'Voyager': np.int64(150), 'Windstar': np.int64(151), 'Wrangler': np.int64(152), 'Xterra': np.int64(153)}\n",
      "\n",
      "Income_Bracket_map = {np.int64(1): np.int64(0), np.int64(2): np.int64(1), np.int64(3): np.int64(2), np.int64(4): np.int64(3)}\n",
      "\n",
      "Holiday_map = {'(تقدير) رأس السنة الهجرية': np.int64(0), '(تقدير) عطلة عيد الأضحى': np.int64(1), '(تقدير) عطلة عيد الأضحى; عيد ثورة 30 يونيو': np.int64(2), '(تقدير) عطلة عيد الفطر': np.int64(3), '(تقدير) عيد الأضحى': np.int64(4), '(تقدير) عيد الفطر': np.int64(5), '(تقدير) عيد المولد النبوي': np.int64(6), '(تقدير) يوم عرفة': np.int64(7), 'Black Friday': np.int64(8), 'Christmas': np.int64(9), \"Mother's Day\": np.int64(10), 'No Holiday': np.int64(11), \"Valentine's Day\": np.int64(12), 'شم النسيم': np.int64(13), 'شم النسيم; عيد تحرير سيناء': np.int64(14), 'عيد العمال': np.int64(15), 'عيد الفصح القبطي': np.int64(16), 'عيد القوات المسلحة': np.int64(17), 'عيد الميلاد المجيد (تقويم قبطي)': np.int64(18), 'عيد تحرير سيناء': np.int64(19), 'عيد ثورة 23 يوليو': np.int64(20), 'عيد ثورة 25 يناير': np.int64(21)}\n",
      "\n",
      "Season_map = {'Fall': np.int64(0), 'Spring': np.int64(1), 'Summer': np.int64(2), 'Winter': np.int64(3)}\n"
     ]
    }
   ],
   "source": [
    "import pandas as pd\n",
    "from sklearn.preprocessing import LabelEncoder\n",
    "\n",
    "df = pd.read_csv('../Milestone4/drive-download-20250423T123712Z-001/Car_sales_Cleand.csv')\n",
    "\n",
    "# List of categorical columns you encoded\n",
    "categorical_cols = [\"Gender\", \"Transmission\", \"Color\", \"Body Style\", \"Dealer_Region\", \"Company\", \"Model\", \"Income_Bracket\", \"Holiday\", \"Season\"]\n",
    "\n",
    "# Dictionary to store mappings\n",
    "encoding_maps = {}\n",
    "\n",
    "for col in categorical_cols:\n",
    "    le = LabelEncoder()\n",
    "    le.fit(df[col])\n",
    "    mapping = dict(zip(le.classes_, le.transform(le.classes_)))\n",
    "    encoding_maps[col] = mapping\n",
    "\n",
    "# Show all mappings\n",
    "for col, mapping in encoding_maps.items():\n",
    "    print(f\"\\n{col}_map = {mapping}\")"
   ]
  }
 ],
 "metadata": {
  "kernelspec": {
   "display_name": "Python 3",
   "language": "python",
   "name": "python3"
  },
  "language_info": {
   "codemirror_mode": {
    "name": "ipython",
    "version": 3
   },
   "file_extension": ".py",
   "mimetype": "text/x-python",
   "name": "python",
   "nbconvert_exporter": "python",
   "pygments_lexer": "ipython3",
   "version": "3.13.0"
  }
 },
 "nbformat": 4,
 "nbformat_minor": 5
}
