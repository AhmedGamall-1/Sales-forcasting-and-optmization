{
 "cells": [
  {
   "cell_type": "markdown",
   "id": "23efb300",
   "metadata": {},
   "source": [
    "<div style=\"text-align: center; background-color:rgb(32, 5, 129); padding: 10px; border-radius: 10px;\">\n",
    "    <span style=\"color: white; font-size: 40px; font-weight: bold;\">Build and optimize forecasting models to predict future sales</span>\n",
    "</div>"
   ]
  },
  {
   "cell_type": "markdown",
   "id": "bfb9e81e",
   "metadata": {},
   "source": [
    "# **Model Selection**\n",
    "- The process of choosing the best model for a given problem. This involves evaluating th"
   ]
  },
  {
   "cell_type": "code",
   "execution_count": null,
   "id": "dad8cfed",
   "metadata": {},
   "outputs": [],
   "source": []
  },
  {
   "cell_type": "markdown",
   "id": "9ee183f1",
   "metadata": {},
   "source": [
    "# **Model Training**\n",
    "- The model architecture used is a simple feedforward neural network with one hidden layer.\n",
    "-  Split the dataset into training and test sets, ensuring proper time-series validation techniques\n",
    "-  Train multiple models and assess their performance using error metrics like RMSE (Root Mean Squared Error), MAE (Mean Absolute Error), and MAPE (Mean Absolute Percentage Error)."
   ]
  },
  {
   "cell_type": "code",
   "execution_count": null,
   "id": "b061d329",
   "metadata": {},
   "outputs": [],
   "source": []
  },
  {
   "cell_type": "markdown",
   "id": "2365de9c",
   "metadata": {},
   "source": [
    "# **Model Evaluation and Tuning**\n",
    "- Tune hyperparameters for selected models.\n",
    "- Evaluate residuals to ensure that no patterns are left unmodeled.\n"
   ]
  },
  {
   "cell_type": "code",
   "execution_count": null,
   "id": "3ce92cf7",
   "metadata": {},
   "outputs": [],
   "source": []
  },
  {
   "cell_type": "markdown",
   "id": "4b0e28c9",
   "metadata": {},
   "source": [
    "# **Model Selection**\n",
    "- Compare the models' performance and choose the best-performing model based on evaluation metrics.\n"
   ]
  },
  {
   "cell_type": "code",
   "execution_count": null,
   "id": "615460ea",
   "metadata": {},
   "outputs": [],
   "source": []
  },
  {
   "cell_type": "code",
   "execution_count": null,
   "id": "75782325",
   "metadata": {},
   "outputs": [],
   "source": []
  },
  {
   "cell_type": "markdown",
   "id": "359ee185",
   "metadata": {},
   "source": [
    "# "
   ]
  },
  {
   "cell_type": "markdown",
   "id": "bc3969ee",
   "metadata": {},
   "source": [
    "\n",
    "<head>\n",
    "    <title>Team Credits</title>\n",
    "    <style>\n",
    "        body {\n",
    "            font-family: Arial, sans-serif;\n",
    "            background-color:rgba(23, 20, 20, 0.74);\n",
    "            margin: 0;\n",
    "            padding: 0;\n",
    "            display: flex;\n",
    "            justify-content: center;\n",
    "            align-items: center;\n",
    "            min-height: 100vh;\n",
    "        }\n",
    "        .container {\n",
    "            text-align: center;\n",
    "            background-color:rgb(4, 88, 140);\n",
    "            padding: 40px;\n",
    "            border-radius: 10px;\n",
    "            box-shadow: 0 4px 8px rgba(0, 0, 0, 0.1);\n",
    "            max-width: 1100px;\n",
    "            width: 100%;\n",
    "        }\n",
    "        h1 {\n",
    "            color: #333;\n",
    "            font-size: 2.5em;\n",
    "            margin-bottom: 10px;\n",
    "        }\n",
    "        h3 {\n",
    "            color: #333;\n",
    "            font-size: 1.5em;\n",
    "            margin: 20px 0;\n",
    "        }\n",
    "        ul {\n",
    "            list-style: none;\n",
    "            padding: 0;\n",
    "            margin: 20px 0;\n",
    "        }\n",
    "        ul li {\n",
    "            font-size: 1.2em;\n",
    "            margin: 10px 0;\n",
    "        }\n",
    "        ul li a {\n",
    "            color: #333;\n",
    "            text-decoration: none;\n",
    "            transition: color 0.3s;\n",
    "        }\n",
    "        ul li a:hover {\n",
    "            color: #007bff;\n",
    "        }\n",
    "        .github-section {\n",
    "            margin-top: 30px;\n",
    "        }\n",
    "        .github-section p {\n",
    "            color: #333;\n",
    "            font-size: 1.1em;\n",
    "            margin-bottom: 10px;\n",
    "        }\n",
    "        .github-section a img {\n",
    "            width: 50px;\n",
    "            height: 50px;\n",
    "            transition: transform 0.3s;\n",
    "        }\n",
    "        .github-section a img:hover {\n",
    "            transform: scale(1.1);\n",
    "        }\n",
    "    </style>\n",
    "</head>\n",
    "<body>\n",
    "    <div class=\"container\">\n",
    "        <h1>Thank You for Your Time and Efforts!</h1>\n",
    "        <h3>This Work Done By Our Team:</h3>\n",
    "        <ul>\n",
    "            <li><a href=\"https://github.com/youssef-113\" target=\"_blank\">Youssef Bassiony Abdlah</a></li>\n",
    "            <li><a href=\"https://github.com/AhmedGamall-1\" target=\"_blank\">Ahmed Gamall</a></li>\n",
    "            <li><a href=\"https://github.com/Begad\" target=\"_blank\">Begad Abdelghafar</a></li>\n",
    "            <li><a href=\"https://github.com/MustafaNasser005\" target=\"_blank\">Mustafa Nasser</a></li>\n",
    "            <li><a href=\"https://github.com/mohamedamr21c\" target=\"_blank\">Mohammed Amr </a></li>\n",
    "        </ul>\n",
    "        <div class=\"github-section\">\n",
    "            <p>For GitHub Repository</p>\n",
    "            <a href=\"https://github.com/AhmedGamall-1/Sales-forcasting-and-optmization/tree/main\" title=\"Redirect to GitHub\" target=\"_blank\">\n",
    "                <img src=\"https://github.githubassets.com/images/modules/logos_page/GitHub-Mark.png\" alt=\"GitHub\">\n",
    "            </a>\n",
    "        </div>\n",
    "\n",
    "</body>\n"
   ]
  }
 ],
 "metadata": {
  "kernelspec": {
   "display_name": "Python 3",
   "language": "python",
   "name": "python3"
  },
  "language_info": {
   "name": "python",
   "version": "3.13.0"
  }
 },
 "nbformat": 4,
 "nbformat_minor": 5
}
